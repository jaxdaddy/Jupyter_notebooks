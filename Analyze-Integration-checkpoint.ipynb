{
 "cells": [
  {
   "cell_type": "code",
   "execution_count": null,
   "metadata": {},
   "outputs": [],
   "source": [
    "# Related page\n",
    "#\n",
    "\n",
    "# Start of the script\n",
    "import pandas as pd\n",
    "import pymongo\n",
    "import uuid\n",
    "import json\n",
    "from IPython.display import display_javascript, display_html, display\n",
    "from pymongo_schema.extract import *\n",
    "from pymongo_schema.export import transform_data_to_file\n",
    "from pymongo import MongoClient\n",
    "\n",
    "#import xml.etree.ElementTree as ET\n",
    "# import boto3\n",
    "#import lxml.etree as etree\n",
    "\n",
    "#import xml.dom.minidom as minidom\n",
    "#from xml.dom.minidom import parse, parseString\n",
    "\n",
    "# from termcolor import colored, cprint\n",
    "\n",
    "mng_svr = '10.25.152.243'\n",
    "mng_port = 27017\n",
    "mng_user = 'read'\n",
    "mng_pwd = 'QbSjdYLj6v'\n",
    "print(\"Configuring for DevQA\")\n",
    "\n",
    "mng_conn_string = mng_svr,mng_port,mng_user,mng_pwd\n",
    "print (mng_conn_string)\n",
    "\n",
    "client = MongoClient (mng_svr,mng_port,username = mng_user, password = mng_pwd)\n",
    "db = client.springer\n",
    "db.collectionName.find()\n",
    "# Collection names\n",
    "rawMeta = 'raw-meta'\n",
    "enrichedMeta = 'enriched-meta'\n",
    "normalized = 'normalized'\n",
    "\n",
    "\n",
    "print (\"Connection complete\")"
   ]
  },
  {
   "cell_type": "code",
   "execution_count": null,
   "metadata": {},
   "outputs": [
    {
     "name": "stdout",
     "output_type": "stream",
     "text": [
      "Count records per each of collection\n"
     ]
    }
   ],
   "source": [
    "print(\"Count records per each of collection\")\n",
    "rawMetaCollection = db[rawMeta]\n",
    "countRawMeta = rawMetaCollection.count_documents({})\n",
    "print(\"raw-meta: \", countRawMeta)\n",
    "\n",
    "verME= rawMetaCollection.aggregate([\n",
    "  { '$unwind': '$mapping-meta' },\n",
    "  { '$group': { '_id': 'null', 'set': { '$addToSet': '$mapping-meta.mapping-engine-version' }}},\n",
    "  { '$project': { 'set': 1, '_id':0 }}\n",
    "])\n",
    "print(\"Version of mapping engine: \",list(verME)[0]['set'])"
   ]
  },
  {
   "cell_type": "code",
   "execution_count": null,
   "metadata": {},
   "outputs": [],
   "source": [
    "enrichmentCollection = db[enrichedMeta]\n",
    "countEnrichmentCollection = enrichmentCollection.count_documents({})\n",
    "print(\"enrichment: \", countEnrichmentCollection)\n",
    "\n"
   ]
  },
  {
   "cell_type": "code",
   "execution_count": null,
   "metadata": {},
   "outputs": [],
   "source": [
    "normalizedCollection= db[normalized]\n",
    "countNormalizedCollection = normalizedCollection.count_documents({})\n",
    "print(\"normalized: \", countNormalizedCollection)\n",
    "\n"
   ]
  },
  {
   "cell_type": "code",
   "execution_count": null,
   "metadata": {},
   "outputs": [],
   "source": [
    "print(\"Analayze raw-meta and normalized\")\n",
    "diff = countRawMeta - countNormalizedCollection\n",
    "if diff != 0:\n",
    "    if diff < 0:\n",
    "        print (\"Normalized collection is bigger than raw-meta: \", abs(diff))\n",
    "    else:\n",
    "        print (\"Raw-meta collection is bigger then normalized: \", abs(diff))\n",
    "else:\n",
    "    print (\"Raw-meta collection and normalized are equal\")\n"
   ]
  },
  {
   "cell_type": "code",
   "execution_count": null,
   "metadata": {},
   "outputs": [],
   "source": [
    "print(\"Analayze enrichment and raw-meta\")\n",
    "diff = countRawMeta - countEnrichmentCollection\n",
    "if diff != 0:\n",
    "    if diff < 0:\n",
    "        print (\"Enrichment collection is bigger than raw-meta: \", abs(diff))\n",
    "    else:\n",
    "        print (\"Raw-meta collection is bigger then enrichment: \", abs(diff))\n",
    "else:\n",
    "    print (\"Raw-meta collection and enrichment are equal\")\n"
   ]
  },
  {
   "cell_type": "code",
   "execution_count": null,
   "metadata": {},
   "outputs": [],
   "source": [
    "print(\"Analayze enrichment and normalized\")\n",
    "diff = countNormalizedCollection - countEnrichmentCollection\n",
    "if diff != 0:\n",
    "    if diff < 0:\n",
    "        print (\"Enrichment collection is bigger than normalized: \", abs(diff))\n",
    "    else:\n",
    "        print (\"Normalized collection is bigger then enrichment: \", abs(diff))\n",
    "else:\n",
    "    print (\"Normalized collection and enrichment are equal\")"
   ]
  },
  {
   "cell_type": "code",
   "execution_count": null,
   "metadata": {},
   "outputs": [],
   "source": [
    "### Analyze raw-meta collection \n",
    "\n",
    "print(\"Year Min / Max  analysis starting\")\n",
    "\n",
    "year_max = normalizedCollection.aggregate([\n",
    "  { '$unwind': '$DatePubCYMD' },\n",
    "  { '$group': { '_id': 'null', 'max': { '$max': '$DatePubCYMD.year' } } },\n",
    "  { '$project': { 'max': 1, '_id':0 } }\n",
    "]) \n",
    "\n",
    "print(\"Highest Year in the dataset: \",list(year_max)[0]['max'])\n",
    "\n",
    "year_min = normalizedCollection.aggregate([\n",
    "  { '$unwind': '$DatePubCYMD' },\n",
    "  { '$group': { '_id': 'null', 'min': { '$min': '$DatePubCYMD.year' } } },\n",
    "  { '$project': { 'min': 1, '_id':0 } }\n",
    "]) \n",
    "\n",
    "print(\"Lowest Year in the dataset: \",list(year_min)[0]['min'])\n",
    "\n",
    "Dist = normalizedCollection.aggregate([\n",
    "    {'$unwind': '$DatePubCYMD' },\n",
    "    {\"$group\" : {\"_id\" : {\"month\" : \"$DatePubCYMD.month\"},\n",
    "     \"total\" : {\"$sum\" : 1}}},\n",
    "    {\"$sort\": {\"total\": 1}}\n",
    "])\n",
    "df = pd.DataFrame(list(Dist))\n",
    "\n"
   ]
  },
  {
   "cell_type": "code",
   "execution_count": null,
   "metadata": {},
   "outputs": [],
   "source": [
    "df"
   ]
  },
  {
   "cell_type": "code",
   "execution_count": null,
   "metadata": {},
   "outputs": [],
   "source": [
    "Dist = normalizedCollection.aggregate([\n",
    "    {'$unwind': '$DatePubCYMD' },\n",
    "    {\"$group\" : {\"_id\" : {\"year\" : \"$DatePubCYMD.year\"},\n",
    "     \"total\" : {\"$sum\" : 1}}},\n",
    "    {\"$sort\": {\"total\": 1}}\n",
    "])\n",
    "df = pd.DataFrame(list(Dist))\n"
   ]
  },
  {
   "cell_type": "code",
   "execution_count": null,
   "metadata": {},
   "outputs": [],
   "source": [
    "df"
   ]
  },
  {
   "cell_type": "code",
   "execution_count": null,
   "metadata": {},
   "outputs": [],
   "source": [
    "Dist = normalizedCollection.aggregate([\n",
    "    {'$unwind': '$DatePubCYMD' },\n",
    "    {\"$group\" : {\"_id\" : {\"DatePubCYMD\" : \"$DatePubCYMD.date-type\"}, \"total\" : {\"$sum\" : 1} }},\n",
    "    {\"$sort\": {\"total\": 1}}])\n",
    "df = pd.DataFrame(list(Dist))"
   ]
  },
  {
   "cell_type": "code",
   "execution_count": null,
   "metadata": {},
   "outputs": [],
   "source": [
    "df"
   ]
  },
  {
   "cell_type": "code",
   "execution_count": null,
   "metadata": {},
   "outputs": [],
   "source": [
    "### Analyze normolized collection \n",
    "\n",
    "doiCount = normalizedCollection.count_documents({\"DOI\" :{'$exists':1}})\n",
    "print('Records without  DOI ', countNormalizedCollection - doiCount)\n",
    "    \n",
    "print(\"End count\")"
   ]
  },
  {
   "cell_type": "code",
   "execution_count": null,
   "metadata": {},
   "outputs": [],
   "source": [
    "print(\"Year Min / Max  analysis starting\")\n",
    "\n",
    "year_max = rawMetaCollection.aggregate([\n",
    "  { '$unwind': '$date-group' },\n",
    "  { '$group': { '_id': 'null', 'max': { '$max': '$date-group.year' } } },\n",
    "  { '$project': { 'max': 1, '_id':0 } }\n",
    "]) \n",
    "\n",
    "print(\"Highest Year in the dataset: \",list(year_max)[0]['max'])\n",
    "\n",
    "year_min = rawMetaCollection.aggregate([\n",
    "  { '$unwind': '$date-group' },\n",
    "  { '$group': { '_id': 'null', 'min': { '$min': '$date-group.year' } } },\n",
    "  { '$project': { 'min': 1, '_id':0 } }\n",
    "]) \n",
    "\n",
    "print(\"Lowest Year in the dataset: \",list(year_min)[0]['min'])\n",
    "\n",
    "Dist = rawMetaCollection.aggregate([\n",
    "    {'$unwind': '$date-group' },\n",
    "    {\"$group\" : {\"_id\" : {\"month\" : \"$date-group.month\"},\n",
    "     \"total\" : {\"$sum\" : 1}}},\n",
    "    {\"$sort\": {\"total\": 1}}\n",
    "])\n",
    "df = pd.DataFrame(list(Dist))\n",
    "\n"
   ]
  },
  {
   "cell_type": "code",
   "execution_count": null,
   "metadata": {},
   "outputs": [],
   "source": [
    "df"
   ]
  },
  {
   "cell_type": "code",
   "execution_count": null,
   "metadata": {},
   "outputs": [],
   "source": [
    "Dist = rawMetaCollection.aggregate([\n",
    "    {'$unwind': '$date-group' },\n",
    "    {\"$group\" : {\"_id\" : {\"year\" : \"$date-group.year\"},\n",
    "     \"total\" : {\"$sum\" : 1}}},\n",
    "    {\"$sort\": {\"total\": 1}}\n",
    "])\n",
    "df = pd.DataFrame(list(Dist))\n"
   ]
  },
  {
   "cell_type": "code",
   "execution_count": null,
   "metadata": {},
   "outputs": [],
   "source": [
    "df"
   ]
  },
  {
   "cell_type": "code",
   "execution_count": null,
   "metadata": {},
   "outputs": [],
   "source": [
    "Dist = rawMetaCollection.aggregate([\n",
    "    {'$unwind': '$date-group' },\n",
    "    {\"$group\" : {\"_id\" : {\"date-type\" : \"$date-group.date-type\"}, \"total\" : {\"$sum\" : 1} }},\n",
    "    {\"$sort\": {\"total\": 1}}])\n",
    "df = pd.DataFrame(list(Dist))"
   ]
  },
  {
   "cell_type": "code",
   "execution_count": null,
   "metadata": {},
   "outputs": [],
   "source": [
    "df"
   ]
  },
  {
   "cell_type": "code",
   "execution_count": null,
   "metadata": {},
   "outputs": [],
   "source": [
    "### Analize Abstract of normalized\n",
    "\n",
    "\n",
    "print(\"All records normalized:\", countNormalizedCollection)\n",
    "#=====================================================\n",
    "recWithOutAbstract = normalizedCollection.count_documents(\n",
    "{\n",
    "\t\"Abstract\":  {\"$exists\" : False} \n",
    "\t}\n",
    ")\n",
    "\n",
    "cprint(\"Records without Abstract: \" + str(recWithOutAbstract), 'white', 'on_red' )\n",
    "cprint(\"Records without Abstract percent: \" + str((recWithOutAbstract / countNormalizedCollection) * 100), 'white', 'on_red' )\n",
    "\n",
    "#=====================================================\n",
    "recWithOutTitle = normalizedCollection.count_documents(\n",
    "{\n",
    "\t\"Abstract.Title.#text\":  {\"$exists\" : False}                      \n",
    "    }\n",
    ")\n",
    "\n",
    "cprint(\"Records without Title: \" + str(recWithOutTitle), 'white', 'on_red' )\n",
    "cprint(\"Records without Title percent: \" + str((recWithOutTitle / countNormalizedCollection) * 100), 'white', 'on_red' )\n",
    "\n",
    "recordsWithOutParagraph = normalizedCollection.count_documents(\n",
    "{\n",
    "\t\"Abstract.Paragraph.#text\":  {\"$exists\" : False}                      \n",
    "    }\n",
    ")\n",
    "cprint(\"Records without Paragraph: \" + str(recordsWithOutParagraph) , 'white', 'on_red' )\n",
    "cprint(\"Records without Paragraph percent: \" + str((recordsWithOutParagraph / countNormalizedCollection) * 100), 'white', 'on_red' )\n"
   ]
  },
  {
   "cell_type": "code",
   "execution_count": null,
   "metadata": {},
   "outputs": [],
   "source": [
    "totalLen = normalizedCollection.aggregate([\n",
    "\n",
    "    {'$unwind': '$Abstract' },\n",
    "    \n",
    "    {'$match': {\"Abstract.Paragraph.#text\":  {\"$exists\" : True} } },\n",
    "    {\"$group\" : {\"_id\" : {'len' :  \"$Abstract.Paragraph.#text\" } }}\n",
    " ], allowDiskUse=True)\n",
    " "
   ]
  },
  {
   "cell_type": "code",
   "execution_count": null,
   "metadata": {},
   "outputs": [],
   "source": [
    "listT= list(totalLen)\n",
    "listTotalLen = pd.DataFrame(listT)\n",
    "print('Total records: ', len(listTotalLen))"
   ]
  },
  {
   "cell_type": "code",
   "execution_count": null,
   "metadata": {},
   "outputs": [],
   "source": [
    "totalLen = 0\n",
    "recLess100 = 0 "
   ]
  },
  {
   "cell_type": "code",
   "execution_count": null,
   "metadata": {},
   "outputs": [],
   "source": [
    "for item in listTotalLen['_id']:\n",
    "    strItem = str(item['len'])\n",
    "    totalLen = totalLen + (len(strItem))\n",
    "    if len(strItem) < 100:\n",
    "        recLess100 += 1"
   ]
  },
  {
   "cell_type": "code",
   "execution_count": null,
   "metadata": {},
   "outputs": [],
   "source": [
    "print('Avg len of Abstract: ', totalLen / (len(listTotalLen)))\n",
    "print(\"Records with abstract less the 100chr: \", str(recLess100))"
   ]
  },
  {
   "cell_type": "code",
   "execution_count": null,
   "metadata": {},
   "outputs": [],
   "source": []
  }
 ],
 "metadata": {
  "kernelspec": {
   "display_name": "Python 3",
   "language": "python",
   "name": "python3"
  },
  "language_info": {
   "codemirror_mode": {
    "name": "ipython",
    "version": 3
   },
   "file_extension": ".py",
   "mimetype": "text/x-python",
   "name": "python",
   "nbconvert_exporter": "python",
   "pygments_lexer": "ipython3",
   "version": "3.6.4"
  }
 },
 "nbformat": 4,
 "nbformat_minor": 2
}
