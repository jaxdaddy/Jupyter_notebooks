{
 "cells": [
  {
   "cell_type": "code",
   "execution_count": 1,
   "metadata": {},
   "outputs": [
    {
     "name": "stdout",
     "output_type": "stream",
     "text": [
      "Configuring\n",
      "('10.25.152.243', 27017, 'read', 'QbSjdYLj6v')\n",
      "Connection complete\n"
     ]
    }
   ],
   "source": [
    "# Related page\n",
    "# http://confluence.epnet.com/display/ART/Spike+-+Date+field%28s%29+analyses+by+content+type+in+Raw-Meta\n",
    "\n",
    "# Start of the script\n",
    "import pandas as pd\n",
    "import pymongo\n",
    "from pymongo import MongoClient\n",
    "import time\n",
    "import datetime\n",
    "\n",
    "\n",
    "\n",
    "\n",
    "#mng_svr = '10.25.218.197'\n",
    "\n",
    "mng_svr = '10.25.152.243'\n",
    "mng_port = 27017\n",
    "mng_user = 'read'\n",
    "mng_pwd = 'QbSjdYLj6v'\n",
    "print(\"Configuring\")\n",
    "\n",
    "mng_conn_string = mng_svr,mng_port,mng_user,mng_pwd\n",
    "print (mng_conn_string)\n",
    "\n",
    "client = MongoClient (mng_svr,mng_port,username = mng_user, password = mng_pwd)\n",
    "db = client.springer\n",
    "\n",
    "\n",
    "start = time.time()\n",
    "print (\"Connection complete\")\n",
    "\n"
   ]
  },
  {
   "cell_type": "code",
   "execution_count": 2,
   "metadata": {},
   "outputs": [
    {
     "name": "stdout",
     "output_type": "stream",
     "text": [
      "Select the number of the collection you want:\n",
      "0 : db['enriched-meta-test']:1\n",
      "1 : db['normalized']:5913548\n",
      "2 : db['enriched-meta']:5875205\n",
      "3 : db['raw-meta']:5875205\n",
      "4 : db['test']:8\n",
      "Job Completed at: 2019-02-13 13:51:04.006508\n",
      "Please Select from 0 to 4: 2\n",
      "Collection selected: db['enriched-meta']\n"
     ]
    }
   ],
   "source": [
    "cols = db.list_collection_names()\n",
    "print (\"Select the number of the collection you want:\")\n",
    "i=0\n",
    "for c in cols:\n",
    "   \n",
    "    collection = \"db['\"+c+\"']\"\n",
    "   \n",
    "    allRecords = eval(collection).count_documents({})\n",
    "    print (str(i)+\" : \"+collection + \":\" + str(allRecords))\n",
    "    i=i+1\n",
    "    \n",
    "#end = time.time()\n",
    "#print(\"Elapsed time in seconds: \" + \"{:.{}f}\".format( (end - start), 2 ))\n",
    "print(\"Job Completed at: \"+str(datetime.datetime.now()))\n",
    "j = input(\"Please Select from 0 to \" + str(i-1)+\": \")\n",
    "int(j)\n",
    "#print(j)\n",
    "#print (list(cols))\n",
    "\n",
    "collection = \"db['\"+ cols[int(j)] +\"']\"\n",
    "print (\"Collection selected: \" + str(collection))\n",
    "collection = eval(collection)"
   ]
  },
  {
   "cell_type": "code",
   "execution_count": 7,
   "metadata": {},
   "outputs": [
    {
     "name": "stdout",
     "output_type": "stream",
     "text": [
      "Year Min / Max  analysis starting\n",
      "<pymongo.command_cursor.CommandCursor object at 0x0000000008EED278>\n"
     ]
    },
    {
     "ename": "IndexError",
     "evalue": "list index out of range",
     "output_type": "error",
     "traceback": [
      "\u001b[1;31m---------------------------------------------------------------------------\u001b[0m",
      "\u001b[1;31mIndexError\u001b[0m                                Traceback (most recent call last)",
      "\u001b[1;32m<ipython-input-7-6f6a1f294cc0>\u001b[0m in \u001b[0;36m<module>\u001b[1;34m()\u001b[0m\n\u001b[0;32m     12\u001b[0m ]) \n\u001b[0;32m     13\u001b[0m \u001b[0mprint\u001b[0m \u001b[1;33m(\u001b[0m\u001b[0myear_max\u001b[0m\u001b[1;33m)\u001b[0m\u001b[1;33m\u001b[0m\u001b[0m\n\u001b[1;32m---> 14\u001b[1;33m \u001b[0mprint\u001b[0m\u001b[1;33m(\u001b[0m\u001b[1;34m\"Highest Year in the dataset: \"\u001b[0m\u001b[1;33m,\u001b[0m\u001b[0mlist\u001b[0m\u001b[1;33m(\u001b[0m\u001b[0myear_max\u001b[0m\u001b[1;33m)\u001b[0m\u001b[1;33m[\u001b[0m\u001b[1;36m0\u001b[0m\u001b[1;33m]\u001b[0m\u001b[1;33m[\u001b[0m\u001b[1;34m'max'\u001b[0m\u001b[1;33m]\u001b[0m\u001b[1;33m)\u001b[0m\u001b[1;33m\u001b[0m\u001b[0m\n\u001b[0m\u001b[0;32m     15\u001b[0m \u001b[1;33m\u001b[0m\u001b[0m\n\u001b[0;32m     16\u001b[0m year_min = collection.aggregate([\n",
      "\u001b[1;31mIndexError\u001b[0m: list index out of range"
     ]
    }
   ],
   "source": [
    "print(\"Year Min / Max  analysis starting\")\n",
    "#year_max = collection.aggregate([\n",
    "#    {\"$match\": {\"date.date-type\": \"pub-date\" }},\n",
    "#    {\"$group\": {\"_id:\" : \"year\" , \"ym\" : {\"$max\" : \"$date.year\"}}}])\n",
    "\n",
    "#year_max = collection.find({\"date.year\" : {\"$exists\" : True}}, sort=[(\"date.year\", 1)])[\"date.year\"]\n",
    "\n",
    "year_max = collection.aggregate([\n",
    "  { '$unwind': '$date' },\n",
    "  { '$group': { '_id': 'null', 'max': { '$max': '$date-group.0.year' } } },\n",
    "  { '$project': { 'max': 1, '_id':1 } }\n",
    "]) \n",
    "print (list(year_max)\n",
    "print(\"Highest Year in the dataset: \",list(year_max)[0]['max'])\n",
    "\n",
    "year_min = collection.aggregate([\n",
    "  { '$unwind': '$date' },\n",
    "  { '$group': { '_id': 'null', 'min': { '$min': '$date-group.0.year' } } },\n",
    "  { '$project': { 'min': 1, '_id':1 } }\n",
    "]) \n",
    "\n",
    "print(\"Lowest Year in the dataset: \",list(year_min)[0]['min'])\n",
    "\n",
    "Dist = collection.distinct (\"date-group.0.month\")\n",
    "ld = (list(Dist))\n",
    "li = list(map(int, ld))\n",
    "li.sort()\n",
    "print (\"Months in the collection: \"+ str(li))\n",
    "\n",
    "\n",
    "Dist = collection.distinct (\"date-group.0.day\")\n",
    "ld = (list(Dist))\n",
    "li = list(map(int, ld))\n",
    "li.sort()\n",
    "print (\"Days in the collection: \"+ str(li))\n",
    "\n",
    "\n",
    "\n"
   ]
  },
  {
   "cell_type": "code",
   "execution_count": 6,
   "metadata": {},
   "outputs": [
    {
     "name": "stdout",
     "output_type": "stream",
     "text": [
      "<pymongo.command_cursor.CommandCursor object at 0x0000000008EE69E8>\n"
     ]
    }
   ],
   "source": [
    "print (year_max)"
   ]
  },
  {
   "cell_type": "code",
   "execution_count": null,
   "metadata": {},
   "outputs": [],
   "source": []
  }
 ],
 "metadata": {
  "kernelspec": {
   "display_name": "Python 3",
   "language": "python",
   "name": "python3"
  },
  "language_info": {
   "codemirror_mode": {
    "name": "ipython",
    "version": 3
   },
   "file_extension": ".py",
   "mimetype": "text/x-python",
   "name": "python",
   "nbconvert_exporter": "python",
   "pygments_lexer": "ipython3",
   "version": "3.6.4"
  }
 },
 "nbformat": 4,
 "nbformat_minor": 2
}
