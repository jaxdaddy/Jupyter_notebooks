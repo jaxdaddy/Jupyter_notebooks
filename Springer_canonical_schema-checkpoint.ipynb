{
 "cells": [
  {
   "cell_type": "code",
   "execution_count": 3,
   "metadata": {},
   "outputs": [
    {
     "name": "stdout",
     "output_type": "stream",
     "text": [
      "\n",
      "### Database: springer\n",
      "#### Collection: douglas-canonical-test \n",
      "|Field_compact_name         |Field_name                 |Count     |Percentage             |Types_count                      |\n",
      "|---------------------------|---------------------------|----------|-----------------------|---------------------------------|\n",
      "|CreativeWorkMeta           |CreativeWorkMeta           |3303      |100.0                  |ARRAY(OBJECT : 3303) : 3303      |\n",
      "| : fpage                   |fpage                      |3303      |100.0                  |integer : 3303                   |\n",
      "| : issue                   |issue                      |3303      |100.0                  |string : 3303                    |\n",
      "| : lpage                   |lpage                      |3303      |100.0                  |integer : 3303                   |\n",
      "| : volume                  |volume                     |3303      |100.0                  |integer : 3303                   |\n",
      "|_id                        |_id                        |3303      |100.0                  |oid : 3303                       |\n",
      "|article-id-group           |article-id-group           |3303      |100.0                  |ARRAY(OBJECT : 3303) : 3303      |\n",
      "| : CreativeWork-id         |CreativeWork-id            |3303      |100.0                  |string : 3303                    |\n",
      "| : pub-id-type             |pub-id-type                |3303      |100.0                  |string : 3303                    |\n",
      "|content-types              |content-types              |3303      |100.0                  |ARRAY(null : 3303) : 3303        |\n",
      "|date                       |date                       |3303      |100.0                  |ARRAY(OBJECT : 6606) : 3303      |\n",
      "| : date-type               |date-type                  |6606      |200.0                  |string : 6606                    |\n",
      "| : month                   |month                      |6606      |200.0                  |string : 6606                    |\n",
      "| : year                    |year                       |6606      |200.0                  |integer : 6606                   |\n",
      "| : day                     |day                        |3303      |100.0                  |integer : 3303                   |\n",
      "|mapping-engine-version     |mapping-engine-version     |3303      |100.0                  |string : 3303                    |\n",
      "|permissions                |permissions                |3303      |100.0                  |ARRAY(OBJECT : 3303) : 3303      |\n",
      "| : copyright-holder        |copyright-holder           |3303      |100.0                  |string : 3303                    |\n",
      "| : copyright-statement     |copyright-statement        |3303      |100.0                  |string : 3303                    |\n",
      "| : copyright-year          |copyright-year             |3303      |100.0                  |integer : 3303                   |\n",
      "|publisher                  |publisher                  |3303      |100.0                  |ARRAY(OBJECT : 3303) : 3303      |\n",
      "| : publisher-loc           |publisher-loc              |3303      |100.0                  |ARRAY(OBJECT : 3303) : 3303      |\n",
      "| :  : addr-line            |addr-line                  |3303      |100.0                  |string : 3303                    |\n",
      "| : publisher-name          |publisher-name             |3303      |100.0                  |string : 3303                    |\n",
      "|schema-version             |schema-version             |3303      |100.0                  |string : 3303                    |\n",
      "|subj-group                 |subj-group                 |3303      |100.0                  |ARRAY(OBJECT : 3303) : 3303      |\n",
      "| : subj-group-type         |subj-group-type            |3303      |100.0                  |string : 3303                    |\n",
      "| : subject                 |subject                    |3303      |100.0                  |string : 3303                    |\n",
      "|title-group                |title-group                |3303      |100.0                  |ARRAY(OBJECT : 3505) : 3303      |\n",
      "| : title                   |title                      |3505      |106.11999999999999     |string : 3505                    |\n",
      "| : title-type              |title-type                 |3505      |106.11999999999999     |string : 3505                    |\n",
      "|abstract-group             |abstract-group             |2843      |86.07000000000001      |ARRAY(OBJECT : 2933) : 2843      |\n",
      "| : abstract                |abstract                   |2933      |103.17                 |string : 2933                    |\n",
      "|kwd-group                  |kwd-group                  |2623      |79.41                  |ARRAY(OBJECT : 13497) : 2623     |\n",
      "| : kwd                     |kwd                        |13497     |514.56                 |string : 13497                   |\n",
      "\n"
     ]
    },
    {
     "name": "stderr",
     "output_type": "stream",
     "text": [
      "INFO:root:=== Start MongoDB schema analysis\n",
      "INFO:pymongo_schema.extract:Extract schema of database springer\n",
      "INFO:pymongo_schema.extract:...collection douglas-canonical-test\n",
      "INFO:pymongo_schema.extract:   scanned 3303 documents out of 3303 (100.00 %)\n",
      "INFO:root:--- MongoDB schema analysis took 1.20 s\n",
      "INFO:root:=== Write output\n"
     ]
    }
   ],
   "source": [
    "!python -m pymongo_schema extract --host 10.25.217.102 --database springer --collection douglas-canonical-test --format md"
   ]
  },
  {
   "cell_type": "code",
   "execution_count": 4,
   "metadata": {},
   "outputs": [
    {
     "name": "stdout",
     "output_type": "stream",
     "text": [
      "hello\n",
      "0.0\n"
     ]
    }
   ],
   "source": []
  },
  {
   "cell_type": "code",
   "execution_count": null,
   "metadata": {},
   "outputs": [],
   "source": []
  }
 ],
 "metadata": {
  "kernelspec": {
   "display_name": "Python 3",
   "language": "python",
   "name": "python3"
  },
  "language_info": {
   "codemirror_mode": {
    "name": "ipython",
    "version": 3
   },
   "file_extension": ".py",
   "mimetype": "text/x-python",
   "name": "python",
   "nbconvert_exporter": "python",
   "pygments_lexer": "ipython3",
   "version": "3.6.4"
  }
 },
 "nbformat": 4,
 "nbformat_minor": 2
}
