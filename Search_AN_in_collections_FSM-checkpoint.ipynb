{
 "cells": [
  {
   "cell_type": "markdown",
   "metadata": {},
   "source": [
    "# AN Validation tool"
   ]
  },
  {
   "cell_type": "code",
   "execution_count": null,
   "metadata": {},
   "outputs": [
    {
     "name": "stdout",
     "output_type": "stream",
     "text": [
      "Please Select an Environment D,I or L: D\n",
      "Configuring for DevQA\n",
      "('10.25.218.197', 27017, '', '')\n",
      "Connection complete\n"
     ]
    }
   ],
   "source": [
    "# Related page\n",
    "#\n",
    "\n",
    "# Start of the script\n",
    "import pandas as pd\n",
    "import pymongo\n",
    "import uuid\n",
    "import json\n",
    "from IPython.display import display_javascript, display_html, display\n",
    "from pymongo_schema.extract import *\n",
    "from pymongo_schema.export import transform_data_to_file\n",
    "from pymongo import MongoClient\n",
    "\n",
    "env = input(\"Please Select an Environment D,I or L: \")\n",
    "if env == \"D\":\n",
    "    mng_svr = '10.25.218.197'\n",
    "    mng_port = 27017\n",
    "    mng_user = ''\n",
    "    mng_pwd = ''\n",
    "    print(\"Configuring for DevQA\")\n",
    "elif env == \"I\": #TODO\n",
    "    mng_svr = '10.25.155.11'\n",
    "    mng_port = 27017\n",
    "    mng_user = ''\n",
    "    mng_pwd = ''\n",
    "    print(\"Configuring for Integration\")\n",
    "elif env == \"L\": #TODO\n",
    "    mng_svr = '10.26.152.183'\n",
    "    mng_port = 27017\n",
    "    mng_user = ''\n",
    "    mng_pwd = ''\n",
    "    print(\"Configuring for Live\")\n",
    "else:\n",
    "     print(\"No usable environment selected\")\n",
    "     exit()\n",
    "\n",
    "mng_conn_string = mng_svr,mng_port,mng_user,mng_pwd\n",
    "print (mng_conn_string)\n",
    "\n",
    "\n",
    "client = MongoClient (mng_svr,mng_port,username = mng_user, password = mng_pwd)\n",
    "db = client.springer\n",
    "\n",
    "\n",
    "print (\"Connection complete\")"
   ]
  },
  {
   "cell_type": "code",
   "execution_count": null,
   "metadata": {},
   "outputs": [
    {
     "name": "stdout",
     "output_type": "stream",
     "text": [
      "Count records per each of collection\n"
     ]
    }
   ],
   "source": [
    "print(\"Count records per each of collection\")\n",
    "rawMetaCollection = db['raw-meta']\n",
    "countRawMeta = rawMetaCollection.count({})\n",
    "enrichmentCollection = db['enriched-meta']\n",
    "countEnrichmentCollection = enrichmentCollection.count({})\n",
    "normalizedCollection= db['normalized']\n",
    "countNormalizedCollection = normalizedCollection.count({})\n",
    "\n",
    "print(\"Normalized: \", countNormalizedCollection)\n",
    "print(\"Canonical: \", countRawMeta)\n",
    "print(\"Enriched: \", countEnrichmentCollection)\n",
    "print(\"End count\")"
   ]
  },
  {
   "cell_type": "code",
   "execution_count": null,
   "metadata": {},
   "outputs": [],
   "source": [
    "an = input(\"Please put a AN: \")"
   ]
  },
  {
   "cell_type": "code",
   "execution_count": null,
   "metadata": {},
   "outputs": [],
   "source": [
    "import re\n",
    "regx = re.compile(\".*\" + an)\n",
    "\n",
    "recordRawMeta = rawMetaCollection.find({\"article-id-group.1.article-id\" : regx},{\"_id\":0})\n",
    "recordEnrichment = enrichmentCollection.find({\"article-id-group.1.article-id\" : regx},{\"_id\":0})\n",
    "recordNormalized = normalizedCollection.find({\"ANIP\" : regx},{\"_id\":0})"
   ]
  },
  {
   "cell_type": "markdown",
   "metadata": {},
   "source": [
    "# Normalized JSON"
   ]
  },
  {
   "cell_type": "code",
   "execution_count": null,
   "metadata": {},
   "outputs": [],
   "source": [
    "for obj in recordNormalized:\n",
    "    print(json.dumps(obj, indent=2))"
   ]
  },
  {
   "cell_type": "markdown",
   "metadata": {},
   "source": [
    "# Canonical JSON"
   ]
  },
  {
   "cell_type": "code",
   "execution_count": null,
   "metadata": {},
   "outputs": [],
   "source": [
    "for obj in recordRawMeta:\n",
    "    print(json.dumps(obj, indent=2))"
   ]
  },
  {
   "cell_type": "markdown",
   "metadata": {},
   "source": [
    "# Enriched JSON"
   ]
  },
  {
   "cell_type": "code",
   "execution_count": null,
   "metadata": {},
   "outputs": [],
   "source": [
    "for obj in recordEnrichment:\n",
    "    print(json.dumps(obj, indent=2))"
   ]
  },
  {
   "cell_type": "code",
   "execution_count": null,
   "metadata": {},
   "outputs": [],
   "source": []
  }
 ],
 "metadata": {
  "kernelspec": {
   "display_name": "Python 3",
   "language": "python",
   "name": "python3"
  },
  "language_info": {
   "codemirror_mode": {
    "name": "ipython",
    "version": 3
   },
   "file_extension": ".py",
   "mimetype": "text/x-python",
   "name": "python",
   "nbconvert_exporter": "python",
   "pygments_lexer": "ipython3",
   "version": "3.6.4"
  }
 },
 "nbformat": 4,
 "nbformat_minor": 2
}
